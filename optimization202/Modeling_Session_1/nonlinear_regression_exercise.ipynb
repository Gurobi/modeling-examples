{
 "cells": [
  {
   "cell_type": "markdown",
   "id": "8cf2c066-3895-4744-b677-caf60cb542c9",
   "metadata": {},
   "source": [
    "# Nonlinear regression: Estimating reaction parameters\n",
    "\n"
   ]
  },
  {
   "cell_type": "markdown",
   "id": "e46ce635-ec5c-4bf5-b72d-8073962d5cce",
   "metadata": {},
   "source": [
    "## Motivation"
   ]
  },
  {
   "cell_type": "markdown",
   "id": "00c91d8a-6df0-4c60-b3cd-9f13bcf5bb96",
   "metadata": {},
   "source": [
    "### What and why\n",
    "Ready to dive into nonlinear regression? In nonlinear regression models, the relationship between the regression parameters and the outcome variable is nonlinear.  Here are a couple of regression models where the regression parameters $a$, $b$, and $c$ have a nonlinear relationship with the dependent variable $y$:\n",
    "\n",
    "$$y(x) = a\\cdot x^b+c$$\n",
    "$$y(x) = \\dfrac{a\\cdot x}{b+x}$$\n",
    "$$y(x) = \\dfrac{a}{1+b^{x-c}}$$\n",
    "\n",
    "Nonlinear regression is essential in fields with complex relationships, providing flexibility for more accurate modeling. Notable applications include:\n",
    "\n",
    "- **Biology and Medicine**: Understanding growth rates and enzyme kinetics.\n",
    "- **Economics**: Analyzing complex demand and price curves.\n",
    "- **Environmental Science**: Uncovering relationships between crop yields and soil conditions.\n",
    "- **Physics and Engineering**: Understanding radioactive decay or modeling properties of materials.\n",
    "\n",
    "These applications benefit from nonlinear regression's ability to deliver more accurate models and retain known model form for predictions and insights, especially in situations where linear regression approaches may fall short."
   ]
  },
  {
   "cell_type": "markdown",
   "id": "c40cce04-4ad1-4740-912a-82f0902c2139",
   "metadata": {},
   "source": [
    "### The nonlinear regression problem\n",
    "The goal of nonlinear regression is to find the parameters that minimize the model error, typically measured by the squared error between the model’s predictions,  $y(x_i; \\text{regression parameters})$ and the actual data points $y_i$. In optimization terms, this process involves:\n",
    "- **Decision variables**: The regression parameters (e.g., $a$ and $b$ in our example below) that define the model.\n",
    "- **Data**: The \"variables\" from the regression model (e.g., y(x) and x) become data points $y_i$ and $x_i$ for all data points $i$.\n",
    "- **Objective**: Commonly, we minimize the sum of the squared error between the model predictions $y_{\\rm model}(x_i; a, b)$ and observed values $y_i$.  Sometimes, absolute error is used as an alternative.\n",
    "- **Constraints**: Often, nonlinear regression has no natural constraints, though bounds can be set on parameters as needed. In this exercise we will, we define $y_{\\rm model}(x)$ to establish our objective.\n",
    "\n",
    "Here’s the general form for least squares regression:\n",
    "\\begin{align*}\n",
    "{\\rm minimize}_{a,b} & \\quad \\displaystyle \\sum_{\\text{data points }i}   \\left(y_\\text{model}(x_i; a,b) - y_i\\right)^2\n",
    "\\end{align*}\n",
    "\n",
    "And, if we use our second example model from above $y(x) = \\dfrac{a\\cdot x}{b+x}$, this would be \n",
    "\\begin{align*}\n",
    "{\\rm minimize}_{a,b} & \\quad \\displaystyle \\sum_{\\text{data points }i}   \\left(\\dfrac{a\\cdot x_i}{b+x_i} - y_i\\right)^2\n",
    "\\end{align*}\n",
    "\n",
    "\n",
    "\n",
    "In many application such problems are solved using a reduced gradient method that cannot guarantee global optimality. In nonlinear regression, it is possible to have multiple local optima because they are typically nonconvex. "
   ]
  },
  {
   "cell_type": "markdown",
   "id": "79390d07-ae54-4832-b2e1-b81622c0ad8c",
   "metadata": {},
   "source": [
    "### Comparison to linear regression\n",
    "Linear regression is often the first and most widely used type of regression, where the relationship between parameters and the predicted value $y(x)$ is linear. For example:\n",
    "$$y(x) = a\\cdot x + b$$\n",
    "$$y(x) = a\\cdot x + b\\cdot z + c$$\n",
    "\n",
    "Even with terms like $x^2$ or $x\\cdot e^x$, a regression model can be trained using linear regression as long as the parameters ($a$, $b$, and $c$) are linear with respect to $y(x)$:\n",
    "$$y(x) = a\\cdot xz + b\\cdot x^2 + c\\cdot z$$\n",
    "$$y(x) = a\\cdot xe^x + b\\frac{1}{x} + c$$\n",
    "\n",
    "This is because, in the optimization model, the regression coefficients $a$, $b$, and $c$ are the actual variables, while the independent and dependent variables, $x$ and $y$ are simply data points rather than variables themselves. So, the use of the word 'variable' in this notebook can get a little tricky! To keep things clear, we’ll refer to the optimization variables as 'decision variables' wherever possible.\n",
    "\n",
    "Linear regression offers a closed-form solution, allowing parameters to be calculated directly—an advantage that makes it fast in tools like Excel, R, and Python.\n",
    "\n",
    "Nonlinear regression, however, lacks this simplicity. Instead, we solve an optimization problem to find the parameters. Though more complex, this approach is essential for modeling curved or intricate data relationships, providing a flexible and accurate fit.\n"
   ]
  },
  {
   "cell_type": "markdown",
   "id": "ad9c53cd-0f12-4099-8f03-542dd3cd7961",
   "metadata": {},
   "source": [
    "In this notebook, we will learn how to write a nonlinear regression model where the goal is to determine the regression parameters that minimize the least squares error.\n",
    "\n",
    "Here are a few handy resources to have ready:\n",
    "- [Gurobi Python Documentation](https://docs.gurobi.com/projects/optimizer/en/current/reference/python.html)\n",
    "- [Gurobi Python Examples](https://docs.gurobi.com/projects/examples/en/current/examples/python.html)"
   ]
  },
  {
   "cell_type": "markdown",
   "id": "25ba7fe7-068d-4e9b-a25e-7e77f83d9364",
   "metadata": {},
   "source": [
    " ## Problem Description "
   ]
  },
  {
   "cell_type": "markdown",
   "id": "f6ad2892-6047-4bb5-bfea-0c66e01cc80e",
   "metadata": {},
   "source": [
    "### Michaelis-Menten Enzyme Kinetics\n",
    "[Michaelis-Menten](https://en.wikipedia.org/wiki/Michaelis%E2%80%93Menten_kinetics) kinetics describes how quickly a reaction happens when an enzyme—a type of molecule that speeds up processes in the body or other reactions—interacts with other molecules. Initially, as the amount of molecules $x$ increases, the reaction speed, $y$, increases. But at a certain point, adding more molecules doesn’t increase the speed much because the enzyme is already working as fast as it can.\n",
    "\n",
    "![image.png](https://raw.githubusercontent.com/Gurobi/modeling-examples/master/optimization202/Modeling_Session_1/mm.png)\n",
    "\n",
    "Two key things come from this: the maximum speed the enzyme can reach $V_{max}$ and the concentration level at which it’s working at half that maximum speed $K_m$. These insights help us understand efficiency and limitations, which is valuable for making decisions in fields like drug development, where knowing an enzyme's limits can guide dosage or predict interactions.\n",
    "\n",
    "In Michaelis-Menten kinetics, we can model the speed of an enzymatic reaction can be with the following equations:\n",
    "\n",
    "$$\n",
    "[\\text{Speed of reaction}] = \\frac{{\\bf V_{max}}\\cdot [\\text{Initial concentration}]}{K_m + [\\text{Initial concentration}]}\n",
    "$$\n",
    "or\n",
    "$$\n",
    "y(x) = \\frac{{\\bf V_{max}}\\cdot x}{K_m + x}\n",
    "$$\n",
    "\n",
    "where the regression parameters that we will find in this notebook are $V_{max}$ and $K_m$.  We will be given data points $i$ for \n",
    "- The independent variable $x$ which is the concentration. Each data point will be $x_i$.\n",
    "- The dependent variable $y(x)$ which is the speed of the reaction that we are trying to model.  Each data point will be $y_i$."
   ]
  },
  {
   "cell_type": "markdown",
   "id": "84e9218c-3b7c-404d-9996-6497da097eb0",
   "metadata": {},
   "source": [
    "## Solution approach\n",
    "\n",
    "Your goal in this notebook is to write a model to find the optimal regression parameters $V_{max}$ and $K_m$. To achieve this, you will formulate a nonlinear least squares regression problem.\n",
    "\n",
    "\n",
    "### Let's get started\n",
    "Throughout the rest of this notebook, you will\n",
    "1. Define the data\n",
    "1. Create the Gurobi `model` object\n",
    "1. Add decision variables\n",
    "1. Add constraints\n",
    "1. Set the objective function\n",
    "1. Solve the model\n",
    "1. Retrieve solution values"
   ]
  },
  {
   "cell_type": "markdown",
   "id": "b2e63af6-a5a9-4476-8495-9da2604582de",
   "metadata": {},
   "source": [
    "## 0. The obligatory part\n",
    "This is the obligatory part of all python code: installing and importing packages.  \n",
    "\n",
    "First, let's install a few packages as needed, then import them"
   ]
  },
  {
   "cell_type": "code",
   "execution_count": null,
   "id": "bf53b323-9e7b-40c7-a8d8-28723d77ae3a",
   "metadata": {},
   "outputs": [],
   "source": [
    "!pip install gurobipy\n",
    "!pip install plotly\n",
    "!pip install numpy\n",
    "!pip install pandas\n",
    "!pip install openpyxl"
   ]
  },
  {
   "cell_type": "code",
   "execution_count": null,
   "id": "b2a60227-b5f8-44cb-9b0b-08fbcc7e873c",
   "metadata": {},
   "outputs": [],
   "source": [
    "import gurobipy as gp\n",
    "from gurobipy import GRB\n",
    "\n",
    "import pandas as pd\n",
    "import plotly.express as px\n",
    "import plotly.graph_objects as go\n",
    "import plotly.io as pio\n",
    "import numpy as np"
   ]
  },
  {
   "cell_type": "markdown",
   "id": "34b8555e-0ff4-4a1d-828a-6c0ea1cfdd31",
   "metadata": {},
   "source": [
    "<div class=\"alert alert-success alert-dismissible\">\n",
    "  <a href=\"#\" class=\"close\" data-dismiss=\"alert\" aria-label=\"close\">&times;</a>\n",
    "    <strong>Quick Tip</strong>\n",
    "    <p>The first two import lines above will be needed each time you want to use gurobipy. You are encouraged to completely forget this part and copy-and-paste it for each new Gurobi model you write  ;).</p>\n",
    "</div>"
   ]
  },
  {
   "cell_type": "markdown",
   "id": "7c7ea527-2356-469f-ab43-b668060de85f",
   "metadata": {},
   "source": [
    "---\n",
    "\n",
    "## 1.  Load and visualize data\n",
    "\n",
    "In this section, we will read in the benchtop experimental data that we will use to train our model.  We will be given 10 data values for $x$ and $y$.\n"
   ]
  },
  {
   "cell_type": "code",
   "execution_count": null,
   "id": "2d903089-2524-487b-8639-2b9dfd395525",
   "metadata": {},
   "outputs": [],
   "source": [
    "# Data\n",
    "path = 'https://raw.githubusercontent.com/Gurobi/modeling-examples/master/optimization202/Modeling_Session_1/'\n",
    "df = pd.read_excel(path + 'MMdata.xlsx') \n",
    "\n",
    "# Use the gurobipy multidict structure to unpack the data in our data frame\n",
    "# Data is from https://cran.r-project.org/web/packages/renz/vignettes/dirMM.html\n",
    "points, xtrain, ytrain = gp.multidict({\n",
    "        row['index']: [float(row['x']), float(row['y'])] for ind,row in df.iterrows()\n",
    "    }) \n",
    "\n",
    "# Show the data:\n",
    "print(\"Here are the x values:\")\n",
    "print(xtrain)\n",
    "\n",
    "print(\"\\nHere are the y values:\")\n",
    "print(ytrain)"
   ]
  },
  {
   "cell_type": "markdown",
   "id": "8f2536dc-8795-4848-8ac7-22ad9cdb49c7",
   "metadata": {},
   "source": [
    "### View the data points"
   ]
  },
  {
   "cell_type": "code",
   "execution_count": null,
   "id": "0693fe8b-08ac-4bd2-af7f-dcbd531888e3",
   "metadata": {},
   "outputs": [],
   "source": [
    "# Create a figure\n",
    "fig = go.Figure()\n",
    "xtrain_arr = np.array(list(xtrain.values()))\n",
    "ytrain_arr = np.array(list(ytrain.values()))\n",
    "\n",
    "# Add the first line\n",
    "fig.add_trace(go.Scatter(x=xtrain_arr, y=ytrain_arr, mode='markers', name='Training data'))\n",
    "\n",
    "# Update layout \n",
    "fig.update_layout(title='Nonlinear regression example: Reaction Speed vs Concentration',\n",
    "                  xaxis_title='x',\n",
    "                  yaxis_title='y',\n",
    "                  template='simple_white')\n",
    "# Show the figure\n",
    "fig.show()"
   ]
  },
  {
   "cell_type": "markdown",
   "id": "3648863e-a92d-4325-b038-cf2ee943e45c",
   "metadata": {},
   "source": [
    "---\n",
    "\n",
    "## 2. Begin building the model\n",
    "In the next four steps, we will be creating the following model:\n",
    "$$\n",
    "\\begin{align*}\n",
    "{\\rm minimize} &  \\quad \\displaystyle \\sum_{\\text{data points }i}   \\left(y_{\\text{model},i} - y_i\\right)^2 \\\\ \\\\\n",
    "{\\rm s.t.} & \\quad y_{\\text{model},i} =  \\frac{{\\bf V_{max}}\\cdot x_i}{K_m + x_i} & \\forall \\text{ data points }i  \\\\ \n",
    "\\end{align*}\n",
    "$$\n",
    "\n",
    "\n",
    "where we have:\n",
    "- **Decision variables**: The main decision variables are regression parameters $V_\\text{max}$ and $K_m$. We are also creating and defining variables for each prediction value $y_{\\text{model},i}$\n",
    "- **Data**: Observation data points $x_i$ and $y_i$\n",
    "- **Constraints**: We have a constraints for every data point $i$ to definte the prediction value $y_{\\text{model},i}$\n",
    "- **Objective**: We are minimizing the sum of the squared error\n",
    "\n",
    "We will also add bounds to all of our variables as it is a best practice --- and makes the model run MUCH faster.\n"
   ]
  },
  {
   "cell_type": "markdown",
   "id": "5ecebe3e-924b-4005-9748-03a96047b686",
   "metadata": {},
   "source": [
    "To start, we will need to create the [model()](https://docs.gurobi.com/projects/optimizer/en/current/reference/python/model.html) object in Gurobi.  The Model object holds a single optimization problem. It consists of a set of variables, a set of constraints, and an objective function."
   ]
  },
  {
   "cell_type": "code",
   "execution_count": null,
   "id": "a4d15290-83c7-46c9-bd7d-de202a18a2cf",
   "metadata": {},
   "outputs": [],
   "source": [
    "# Declare and initialize model\n",
    "model = gp.Model(\"Nonlinear regression\")"
   ]
  },
  {
   "cell_type": "markdown",
   "id": "323708f5-8eab-4496-9cdd-4a07d6e48c79",
   "metadata": {},
   "source": [
    "---\n",
    "\n",
    "## 3. Add Decision variables\n",
    "The main decision variables are regression parameters $V_\\text{max}$ and $K_m$ (in your model, name these `Vmax` and `Km`). We are also creating and defining each prediction value $y_{\\text{model},i}$ for every data point $i$.\n",
    "\n",
    "**Bounding the decision variables**: Providing bounds on the variables is important for model performance. In our case, you can assume that $V_\\text{max}$ and $K_m$ will each be between zero and 1000. For each $y_{\\text{model},i}$, you can use a lower bound of $-2 * y_\\max$ and an upper bound of $2*y_\\max$ where $y_\\max$ is the largest reaction time."
   ]
  },
  {
   "cell_type": "code",
   "execution_count": null,
   "id": "7b93ec63-f6a6-49dc-a4a6-a7be0cb21c5e",
   "metadata": {},
   "outputs": [],
   "source": [
    "# Create decision variables \n",
    "# Vmax = model.addVar(...) #complete the code\n",
    "# Km = model.addVar(...)\n",
    "\n",
    "# Create additional variables to define the model\n",
    "ymax = max(ytrain.values()) # Used in a thoughtful upper bound on ymodel\n",
    "# (your code goes here)"
   ]
  },
  {
   "cell_type": "markdown",
   "id": "151df4e0-179f-496a-917b-457658e4bc71",
   "metadata": {},
   "source": [
    "<div class=\"alert alert-success alert-dismissible\">\n",
    "  <a href=\"#\" class=\"close\" data-dismiss=\"alert\" aria-label=\"close\">&times;</a>\n",
    "    <strong>Quick Tip</strong>\n",
    "    <p>Remember to bound your variables where possible.  This helps encourage a speedy solve.</p>\n",
    "</div>"
   ]
  },
  {
   "cell_type": "markdown",
   "id": "a842859c-d269-4a3a-b1f2-b3688748dd48",
   "metadata": {},
   "source": [
    "Next, let's double check the variables look like we would expect."
   ]
  },
  {
   "cell_type": "code",
   "execution_count": null,
   "id": "bde6c419-23d4-4f59-9dee-1e0712f1c96f",
   "metadata": {},
   "outputs": [],
   "source": [
    "# Check your work by printing out the variables\n",
    "model.update()\n",
    "print(\"The model variables are: \")\n",
    "for v in model.getVars():\n",
    "    print(f\" - {v.varname} with lower bound of {v.lb} and upper bound of {v.ub}\")"
   ]
  },
  {
   "cell_type": "markdown",
   "id": "51a1f7a9-0c8f-4d37-8434-a652a314a5d7",
   "metadata": {},
   "source": [
    "---\n",
    "## 4. Add Constraints\n",
    "We will begin adding the constraints that define our problem. For this model, all we need to do is define $y_{\\text{model},i}$, where\n",
    "$$y_{\\text{model},i} = \\frac{{\\bf V_{max}}\\cdot x_i}{K_m + x_i}  \\quad  \\quad \\forall \\text{ data points }i$$"
   ]
  },
  {
   "cell_type": "code",
   "execution_count": null,
   "id": "38341cae-b427-4855-a4a8-064ba50e3cd5",
   "metadata": {},
   "outputs": [],
   "source": [
    "# Write out your constraint to define ymodel[i] for each data point in points\n",
    "# (your code goes here)"
   ]
  },
  {
   "cell_type": "markdown",
   "id": "22ae2755-1409-4550-9a5e-ce5ef085b98f",
   "metadata": {},
   "source": [
    "<div class=\"alert alert-success alert-dismissible\">\n",
    "  <a href=\"#\" class=\"close\" data-dismiss=\"alert\" aria-label=\"close\">&times;</a>\n",
    "    <strong>Quick Tip</strong>\n",
    "    <p>Remember to think about reformulating your equations.  This constraint could easily be written in two ways. </p>\n",
    "    <p>Option 1:</p>\n",
    "    <pre>ymodel[i] = Vmax*x[i] / (Km + x[i])</pre>\n",
    "    <p></p>\n",
    "    <p>Option 2:</p>\n",
    "    <pre>ymodel[i](Km + x[i]) = Vmax*x[i] </pre>\n",
    "    <p></p>\n",
    "    <p>The second option would be easier for the solver to use because it is a quadratic equation rather than a fully nonlinear one.</p>\n",
    "</div>"
   ]
  },
  {
   "cell_type": "markdown",
   "id": "7d799707-45bc-42d7-8ef1-11be91aab5ae",
   "metadata": {},
   "source": [
    "\n",
    "---\n",
    "## 5. Set the objective\n",
    "The goal is to minimize the sum of the squared error. In this step, we will write the following objective:\n",
    "$$\n",
    "\\begin{align*}\n",
    "{\\rm minimize} &  \\quad \\displaystyle \\sum_{\\text{data points }i}   \\left(y_{\\text{model},i} - y_i\\right)^2 \n",
    "\\end{align*}\n",
    "$$"
   ]
  },
  {
   "cell_type": "code",
   "execution_count": null,
   "id": "2fb54b23-d80e-4a37-8ccf-d5c78d31c50e",
   "metadata": {},
   "outputs": [],
   "source": [
    "# Write the objective\n",
    "# (your code goes here)"
   ]
  },
  {
   "cell_type": "markdown",
   "id": "853d8678-b067-4ba6-940a-98ef7b469f18",
   "metadata": {},
   "source": [
    "### Celebrate and check your work"
   ]
  },
  {
   "cell_type": "code",
   "execution_count": null,
   "id": "7ed492af-3d18-44ba-afb8-7e8b53efaec0",
   "metadata": {},
   "outputs": [],
   "source": [
    "model.write('nonlinear_regression.lp')"
   ]
  },
  {
   "cell_type": "markdown",
   "id": "97582f66-df7d-4581-acc5-0cbab3b20e73",
   "metadata": {},
   "source": [
    "<div class=\"alert alert-success alert-dismissible\">\n",
    "  <a href=\"#\" class=\"close\" data-dismiss=\"alert\" aria-label=\"close\">&times;</a>\n",
    "    <strong>Quick Tip</strong> \n",
    "    <p>In the cell above, we wrote out the model as an LP file.  This is a human-readable format that can allow you to check to make sure your constraints and objectives look right.  This has been saved to this local directory.  \n",
    "    <p>Take a look at nonlinear_regression.lp. Does everything look correct?  If so, please consider celebrating. Think about all the enzymatic reactions happening in your body. Go eat a donut -- make more reactions.</p>\n",
    "</div>"
   ]
  },
  {
   "cell_type": "markdown",
   "id": "5fbb3368-7c37-40d7-8de0-6d493db7768e",
   "metadata": {},
   "source": [
    "<a id='6_optimize'></a>\n",
    "---\n",
    "## 6. Solve the model \n",
    "We use the [optimize()](https://www.gurobi.com/documentation/current/refman/py_model_optimize.html) method of the Gurobi/Python API to solve the problem we have defined for the model object `model`."
   ]
  },
  {
   "cell_type": "code",
   "execution_count": null,
   "id": "e4b41f36-17ff-4748-95c5-d8d101e80231",
   "metadata": {},
   "outputs": [],
   "source": [
    "model.optimize()"
   ]
  },
  {
   "cell_type": "markdown",
   "id": "755178b8-997e-4b3c-a153-6e43e1f6b8f0",
   "metadata": {},
   "source": [
    "**Question**: Look at the Gurobi log and reflect on what you see. What type of model was this? Was it convex or non-convex? Is this consistent with what you would expect?  "
   ]
  },
  {
   "cell_type": "markdown",
   "id": "112bf73c-d8d9-4c05-ab54-e548820189a0",
   "metadata": {},
   "source": [
    "### Check your solution"
   ]
  },
  {
   "cell_type": "code",
   "execution_count": null,
   "id": "31f7a434-c49f-4ab1-a788-3dcae22bbd48",
   "metadata": {},
   "outputs": [],
   "source": [
    "status = model.status\n",
    "if status == GRB.OPTIMAL:\n",
    "    print(f\"An optimal solution was found with objective {model.objVal}\")\n",
    "    model.printAttr('X')\n",
    "else:\n",
    "    print(f\"Model is not optimal, status = {status}\")"
   ]
  },
  {
   "cell_type": "markdown",
   "id": "61cb9017-b863-4b6b-a0e4-65ba30dcf41a",
   "metadata": {},
   "source": [
    "---\n",
    "## 7. View the solution\n",
    "In the next section, we will plot our resulting regression model alongside the data.  \n",
    "\n",
    "We pulled this data from [dirMM - Fitting the Michaelis-Menten Model](https://cran.r-project.org/web/packages/renz/vignettes/dirMM.html).  This R package also gives its values for $V_\\text{max} = 181.182$ and $K_m=3.115$. As you can see our values may differ from this.  Let's plot them and see which looks better.  I have also calculated the Mean Squared Error (MSE) for both lines and added it to the chart."
   ]
  },
  {
   "cell_type": "code",
   "execution_count": null,
   "id": "2c52078d-528a-4717-bef7-7fc675cd92ab",
   "metadata": {},
   "outputs": [],
   "source": [
    "# Create a figure\n",
    "def ylist_MM(xlist, Vmax, Km):\n",
    "    return [Vmax*x/(Km + x) for x in xlist]\n",
    "def mean_squared_error(xlist, ylist, Vmax, Km):\n",
    "    y = ylist_MM(xlist, Vmax, Km)\n",
    "    return np.sum((y-ylist)**2)/len(xlist)\n",
    "\n",
    "# Create a figure\n",
    "fig = go.Figure()\n",
    "xtrain_arr = np.array(list(xtrain.values()))\n",
    "ytrain_arr = np.array(list(ytrain.values()))\n",
    "xplot = np.linspace(min(xtrain_arr), max(xtrain_arr), 100)\n",
    "\n",
    "# Add the first line\n",
    "fig.add_trace(go.Scatter(x=xtrain_arr, y=ytrain_arr, mode='markers', name='Training data'))\n",
    "\n",
    "# Add the second line\n",
    "label = \"dir-MM (R-method)\"\n",
    "this_Vmax = 181.18\n",
    "this_Km = 3.115\n",
    "MSE = mean_squared_error(xtrain_arr, ytrain_arr, this_Vmax, this_Km)\n",
    "fig.add_trace(go.Scatter(x=xplot, y=ylist_MM(xplot,this_Vmax, this_Km), mode='lines', name=f\"{label}: Vmax={round(this_Vmax,1)}, Km={round(this_Km,1)} (MSE={round(MSE,1)})\"))\n",
    "\n",
    "# Add the second line\n",
    "label = \"Gurobi\"\n",
    "MSE = mean_squared_error(xtrain_arr, ytrain_arr, Vmax.X, Km.X)\n",
    "fig.add_trace(go.Scatter(x=xplot, y=ylist_MM(xplot,Vmax.X, Km.X), mode='lines', name=f\"{label}: Vmax={round(Vmax.X,1)}, Km={round(Km.X,1)} (MSE={round(MSE,1)})\"))\n",
    "\n",
    "\n",
    "# Update layout (optional)\n",
    "fig.update_layout(title='Nonlinear regression example: Reaction Speed vs Concentration',\n",
    "                  xaxis_title='x',\n",
    "                  yaxis_title='y',)\n",
    "fig.update_layout(template='simple_white')\n",
    "# Show the figure\n",
    "fig.show()"
   ]
  },
  {
   "cell_type": "markdown",
   "id": "e8085a38-9f4c-4f7b-a1a9-ac65b781e422",
   "metadata": {},
   "source": [
    "## Before you exit, free up Gurobi resources\n",
    "After you are done, it is a best practice to free up any Gurobi resources associated with the model object and environment.  This will release any shared licenses and end the job on the cloud or compute server.  \n",
    "\n",
    "To do this, call [Model.dispose()](https://www.gurobi.com/documentation/current/refman/py_model_dispose.html#pythonmethod:Model.dispose) on all Model objects, [Env.dispose()](https://www.gurobi.com/documentation/current/refman/py_env_dispose.html#pythonmethod:Env.dispose) on any Env objects you created, or [disposeDefaultEnv()](https://www.gurobi.com/documentation/current/refman/py_disposedefaultenv.html#pythonmethod:disposeDefaultEnv) if you used the default environment instead."
   ]
  },
  {
   "cell_type": "code",
   "execution_count": null,
   "id": "f98c1ae2-f9e8-4a9e-b600-45906b50224d",
   "metadata": {
    "scrolled": true
   },
   "outputs": [],
   "source": [
    "# Free Gurobi resources: Model and environment\n",
    "model.dispose()\n",
    "gp.disposeDefaultEnv()"
   ]
  }
 ],
 "metadata": {
  "kernelspec": {
   "display_name": "gurobi_ml",
   "language": "python",
   "name": "python3"
  },
  "language_info": {
   "codemirror_mode": {
    "name": "ipython",
    "version": 3
   },
   "file_extension": ".py",
   "mimetype": "text/x-python",
   "name": "python",
   "nbconvert_exporter": "python",
   "pygments_lexer": "ipython3",
   "version": "3.11.6"
  }
 },
 "nbformat": 4,
 "nbformat_minor": 5
}
