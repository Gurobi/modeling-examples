{
 "cells": [
  {
   "cell_type": "markdown",
   "id": "a0452227",
   "metadata": {},
   "source": [
    "Copyright © 2023 Gurobi Optimization, LLC"
   ]
  },
  {
   "cell_type": "markdown",
   "id": "4b2a1cec",
   "metadata": {
    "slideshow": {
     "slide_type": "-"
    }
   },
   "source": [
    "# Text Dissimilarity using Linear Programming"
   ]
  },
  {
   "cell_type": "markdown",
   "id": "a855eb7d",
   "metadata": {
    "slideshow": {
     "slide_type": "-"
    }
   },
   "source": [
    "In this notebook, we will walk-through a unique example demonstrating how you can apply optimization to assess text dissimilarity. There are numerous potential applications such as in detecting plagiarism, information retrieval, clustering, text categorization, topic detection, question answer session, machine translation and text summarization. Read here for [more](https://citeseerx.ist.psu.edu/document?repid=rep1&type=pdf&doi=1aff7b429f99f529228a4299a5794971adeb1ca3#:~:text=There%20are%20several%20applications%20or,machine%20translation%2C%20text%20summarization%20etc).\n",
    "\n",
    "The **Word Mover's Distance** (WMD) is a popular measure of text similarity, which measures the semantic distance between two documents. In this notebook, we will achieve two goals:\n",
    "- Given two text passages, model WMD as an optimization problem and compute it\n",
    "- Examine a plagiarized passage from a book, then find the original passage in that book that has the closest semantic meaning to the given passage\n",
    "\n",
    "\n",
    "|<img src=\"https://raw.githubusercontent.com/Gurobi/modeling-examples/master/text_dissimilarity/figure_obama.png\" width=\"500\" align=\"center\">| \n",
    "|:--:|\n",
    "|An illustration of Word Movers' Distance to measure the similarity between two documents. <b>Image Credits: [Towards AI](https://towardsai.net/p/nlp/word-movers-distance-wmd-explained-an-effective-method-of-document-classification-89cb258401f4) </b>| "
   ]
  },
  {
   "cell_type": "markdown",
   "id": "cb1d812d",
   "metadata": {},
   "source": [
    "## I. The data\n",
    "\n"
   ]
  },
  {
   "cell_type": "markdown",
   "id": "770378b5",
   "metadata": {},
   "source": [
    "### Google Word-to-Vector Data\n",
    "\n",
    "In order to find the semantic distance between words, we start by constructing a vector embedding for each word.\n",
    "For this, we use the popular 'word2vec' dataset from Google News. This dataset has vector embeddings that are pre-trained for 3 million words. Read more about the dataset [here](https://code.google.com/archive/p/word2vec/).\n",
    "\n",
    "We now import all the packages needed and download the word2vec data. Note that in the code below, downloading the data takes up to a minute. "
   ]
  },
  {
   "cell_type": "code",
   "execution_count": 1,
   "id": "3f2bb6d0",
   "metadata": {
    "scrolled": true
   },
   "outputs": [],
   "source": [
    "import numpy as np\n",
    "import pandas as pd\n",
    "from matplotlib import pyplot as plt   \n",
    "from gensim.models import KeyedVectors \n",
    "from scipy import spatial\n",
    "\n",
    "import gensim.downloader as api\n",
    "model = api.load('word2vec-google-news-300')\n"
   ]
  },
  {
   "cell_type": "markdown",
   "id": "dee9fe5c",
   "metadata": {},
   "source": [
    "We have downloaded the massive dataset of word-vector embeddings. For example, the embedding of the word \"Sherlock' is given below, in a 300-dimension space."
   ]
  },
  {
   "cell_type": "code",
   "execution_count": 2,
   "id": "42792a64",
   "metadata": {},
   "outputs": [
    {
     "data": {
      "text/plain": [
       "array([-0.00646973,  0.04882812, -0.10205078,  0.1328125 , -0.01855469,\n",
       "       -0.10253906, -0.10693359,  0.01556396,  0.22949219,  0.06054688,\n",
       "       -0.02392578,  0.09912109, -0.04541016, -0.01965332, -0.01202393,\n",
       "        0.04370117,  0.046875  , -0.16210938, -0.02453613, -0.16894531,\n",
       "       -0.03662109, -0.21289062,  0.25      , -0.06396484,  0.25195312,\n",
       "        0.31054688,  0.0145874 ,  0.18945312, -0.02233887,  0.0072937 ,\n",
       "       -0.328125  , -0.20703125, -0.01586914,  0.09033203, -0.06347656,\n",
       "       -0.07470703, -0.12255859,  0.23046875, -0.06835938,  0.09179688,\n",
       "        0.07861328, -0.11669922,  0.078125  ,  0.2734375 ,  0.078125  ,\n",
       "       -0.03808594, -0.02685547,  0.203125  ,  0.1640625 ,  0.14941406,\n",
       "       -0.11279297,  0.01977539, -0.19238281,  0.10302734,  0.08642578,\n",
       "       -0.20214844,  0.06738281, -0.25585938, -0.15527344,  0.05493164,\n",
       "       -0.00915527,  0.24121094,  0.04638672,  0.02453613, -0.22265625,\n",
       "       -0.10644531, -0.30273438,  0.01446533, -0.24414062,  0.04785156,\n",
       "        0.13867188, -0.3125    ,  0.20703125,  0.07324219,  0.09521484,\n",
       "        0.21875   ,  0.125     ,  0.03198242,  0.21289062, -0.00183868,\n",
       "       -0.17773438,  0.15039062, -0.11035156,  0.02563477, -0.09179688,\n",
       "       -0.23730469,  0.0111084 , -0.04589844,  0.171875  , -0.08789062,\n",
       "       -0.20605469,  0.0612793 , -0.0559082 ,  0.03710938, -0.03515625,\n",
       "        0.15429688,  0.06787109, -0.02844238, -0.27929688, -0.11083984,\n",
       "       -0.19628906, -0.01177979,  0.20410156, -0.08740234,  0.1875    ,\n",
       "        0.10693359,  0.04199219,  0.07226562, -0.03112793,  0.0546875 ,\n",
       "        0.01159668, -0.02172852,  0.01977539,  0.10058594,  0.10595703,\n",
       "        0.11816406, -0.09326172, -0.21484375,  0.37890625, -0.00320435,\n",
       "       -0.06640625,  0.04785156,  0.10839844,  0.0859375 ,  0.02954102,\n",
       "       -0.11962891, -0.296875  ,  0.14355469, -0.06835938,  0.15820312,\n",
       "       -0.14257812, -0.1640625 , -0.30664062,  0.04663086,  0.03808594,\n",
       "        0.07275391,  0.24902344, -0.08447266,  0.14941406,  0.07763672,\n",
       "        0.0534668 , -0.07373047,  0.16210938, -0.00762939, -0.08398438,\n",
       "        0.12695312, -0.140625  , -0.18847656, -0.09228516,  0.41210938,\n",
       "        0.03295898, -0.25390625,  0.04443359,  0.09179688,  0.0559082 ,\n",
       "       -0.03857422,  0.0246582 , -0.11328125, -0.04711914,  0.00848389,\n",
       "        0.16699219,  0.01464844, -0.07519531,  0.0390625 , -0.05761719,\n",
       "       -0.03149414,  0.19726562,  0.03088379,  0.203125  , -0.06298828,\n",
       "        0.13574219, -0.05493164,  0.0390625 , -0.18652344,  0.13867188,\n",
       "        0.09716797,  0.02966309, -0.12890625, -0.12597656,  0.35351562,\n",
       "       -0.16015625,  0.10107422,  0.14746094, -0.29101562, -0.2421875 ,\n",
       "       -0.11669922,  0.3046875 ,  0.10302734,  0.08886719, -0.328125  ,\n",
       "       -0.12255859,  0.09082031, -0.0534668 , -0.09228516,  0.02416992,\n",
       "       -0.00090408,  0.03540039, -0.15820312,  0.05273438,  0.05029297,\n",
       "        0.05200195,  0.00238037, -0.19921875,  0.31054688,  0.171875  ,\n",
       "        0.15820312,  0.07910156,  0.07177734,  0.02270508, -0.07958984,\n",
       "        0.11914062,  0.08740234, -0.08105469, -0.12890625, -0.29101562,\n",
       "        0.03149414,  0.0016098 , -0.21972656,  0.14746094, -0.06103516,\n",
       "        0.10693359, -0.06933594,  0.14941406, -0.08105469, -0.19238281,\n",
       "        0.11474609, -0.16015625, -0.16015625, -0.05371094, -0.2890625 ,\n",
       "       -0.07470703, -0.21679688,  0.04492188, -0.11279297,  0.03564453,\n",
       "        0.12207031,  0.11279297,  0.08740234,  0.12109375,  0.20996094,\n",
       "       -0.10351562, -0.23632812,  0.26367188, -0.0625    ,  0.3046875 ,\n",
       "       -0.01916504,  0.04760742,  0.20019531,  0.13574219, -0.06201172,\n",
       "       -0.10351562, -0.00970459, -0.0546875 ,  0.19042969,  0.08105469,\n",
       "       -0.06933594, -0.03125   ,  0.01275635, -0.23925781, -0.12792969,\n",
       "       -0.10009766,  0.10449219, -0.03015137,  0.27539062,  0.05395508,\n",
       "       -0.18847656, -0.18164062,  0.13085938,  0.09277344, -0.22167969,\n",
       "       -0.11230469, -0.10449219, -0.07470703,  0.26367188,  0.18554688,\n",
       "       -0.09960938,  0.14160156, -0.3671875 , -0.0201416 ,  0.13574219,\n",
       "       -0.16992188,  0.09375   ,  0.20019531,  0.08544922,  0.13769531,\n",
       "       -0.01483154, -0.21484375, -0.08886719,  0.12353516,  0.16796875,\n",
       "        0.15527344,  0.06152344, -0.10302734,  0.23144531,  0.16601562,\n",
       "       -0.10351562, -0.10498047, -0.20117188,  0.09472656,  0.265625  ],\n",
       "      dtype=float32)"
      ]
     },
     "execution_count": 2,
     "metadata": {},
     "output_type": "execute_result"
    }
   ],
   "source": [
    "model['Sherlock']\n"
   ]
  },
  {
   "cell_type": "markdown",
   "id": "f699b616",
   "metadata": {},
   "source": [
    "### Enter two documents \n",
    "\n",
    "Next, we create the two documents to compare. In this example we look at a sentence from Sir Arthur Conan Doyle’s *The Adventures of Sherlock Holmes* (the original literary data-driven detective): \n",
    "\n",
    "\"The little man stood glancing from one to the other of us with half-frightened, half-hopeful eyes, as one who is not sure whether he is on the verge of a windfall or of a catastrophe.\"\n",
    "\n",
    "\n",
    "We use a popular text generation technology ([ChatGPT](https://chat.openai.com/chat)) to construct semantically similar sentence. "
   ]
  },
  {
   "cell_type": "markdown",
   "id": "0c59d76c",
   "metadata": {},
   "source": [
    "<img src=\"https://raw.githubusercontent.com/Gurobi/modeling-examples/master/text_dissimilarity/chatgpt clip.gif\" width=\"750\" align=\"center\">\n"
   ]
  },
  {
   "cell_type": "markdown",
   "id": "76965342",
   "metadata": {},
   "source": [
    "We store the two sentences (documents) as strings. You can try other pairs of sentences too. Some are given in the commented text below."
   ]
  },
  {
   "cell_type": "code",
   "execution_count": null,
   "id": "11248557",
   "metadata": {},
   "outputs": [],
   "source": [
    "document1 = 'The little man stood glancing from one to the other of us with half-frightened, half-hopeful eyes, as one who is not sure whether he is on the verge of a windfall or of a catastrophe.'\n",
    "document2 = 'With a gaze that shifted back and forth between us, the diminutive figure appeared to be a mixture of apprehension and anticipation, uncertain if he was on the cusp of a fortune or a disaster.'\n",
    "\n",
    "# document1 = 'I barely saw Sherlock recently.'\n",
    "# document2 = 'Lately, I have had little opportunity to catch a glimpse of Sherlock.'\n",
    "\n",
    "# document1 = 'Obama speaks to the media in Illinois.'\n",
    "# document2 = 'The President greets the press in Chicago'"
   ]
  },
  {
   "cell_type": "markdown",
   "id": "d5560ff9",
   "metadata": {},
   "source": [
    "##  II. Pre-processing the text\n",
    "\n",
    "Before comparing the two documents, we first eliminate certain words that may not carry any semantic value, for example, prepositions (e.g., in, on, under), conjunctions (e.g., and, for, but), and determiners (e.g., a, an, the, another). These words are called **stop words**. Read more [here](https://kavita-ganesan.com/what-are-stop-words/#.ZCCurezMLt0).\n",
    "We also remove punctuation marks and proper nouns, and then we convert all the words to their lower-case equivalents.\n",
    "\n",
    "We use the nltk package to ensure this. In the code below, the lines with \"nltk.download\" need to be executed the first time this notebook is run. You may comment the lines for subsequent runs."
   ]
  },
  {
   "cell_type": "code",
   "execution_count": null,
   "id": "1fcc77a1",
   "metadata": {},
   "outputs": [],
   "source": [
    "import nltk \n",
    "nltk.download('stopwords')\n",
    "nltk.download('averaged_perceptron_tagger_eng')  \n",
    "nltk.download('punkt')\n",
    "from nltk.corpus import stopwords\n",
    "from nltk.tokenize import RegexpTokenizer, word_tokenize\n",
    "from nltk.stem import PorterStemmer \n",
    " "
   ]
  },
  {
   "cell_type": "markdown",
   "id": "2c3460d5",
   "metadata": {},
   "source": [
    "Split each document into words (or \"tags\"). Each word is classified into several categories. For example, 'NN' corresponds to a singular noun and 'VBD' is a verb in the past tense. See [here](https://pythonprogramming.net/natural-language-toolkit-nltk-part-speech-tagging/) for the complete list of classifications. "
   ]
  },
  {
   "cell_type": "code",
   "execution_count": 5,
   "id": "a89731ed",
   "metadata": {},
   "outputs": [
    {
     "name": "stdout",
     "output_type": "stream",
     "text": [
      "[('The', 'DT'), ('little', 'JJ'), ('man', 'NN'), ('stood', 'VBD'), ('glancing', 'VBG'), ('from', 'IN'), ('one', 'CD'), ('to', 'TO'), ('the', 'DT'), ('other', 'JJ'), ('of', 'IN'), ('us', 'PRP'), ('with', 'IN'), ('half-frightened,', 'JJ'), ('half-hopeful', 'JJ'), ('eyes,', 'NN'), ('as', 'IN'), ('one', 'CD'), ('who', 'WP'), ('is', 'VBZ'), ('not', 'RB'), ('sure', 'JJ'), ('whether', 'IN'), ('he', 'PRP'), ('is', 'VBZ'), ('on', 'IN'), ('the', 'DT'), ('verge', 'NN'), ('of', 'IN'), ('a', 'DT'), ('windfall', 'NN'), ('or', 'CC'), ('of', 'IN'), ('a', 'DT'), ('catastrophe.', 'NN')]\n",
      "[('With', 'IN'), ('a', 'DT'), ('gaze', 'NN'), ('that', 'WDT'), ('shifted', 'VBD'), ('back', 'RB'), ('and', 'CC'), ('forth', 'NN'), ('between', 'IN'), ('us,', 'JJ'), ('the', 'DT'), ('dimunitive', 'JJ'), ('figure', 'NN'), ('appeared', 'VBD'), ('to', 'TO'), ('be', 'VB'), ('a', 'DT'), ('mixture', 'NN'), ('of', 'IN'), ('apprehension', 'NN'), ('and', 'CC'), ('anticipation,', 'NN'), ('uncertain', 'RB'), ('if', 'IN'), ('he', 'PRP'), ('was', 'VBD'), ('on', 'IN'), ('the', 'DT'), ('cusp', 'NN'), ('of', 'IN'), ('a', 'DT'), ('fortune', 'NN'), ('or', 'CC'), ('a', 'DT'), ('disaster.', 'NN')]\n"
     ]
    }
   ],
   "source": [
    "tagged_doc1 = nltk.tag.pos_tag(document1.split())\n",
    "tagged_doc2 = nltk.tag.pos_tag(document2.split()) \n",
    "print(tagged_doc1)\n",
    "print(tagged_doc2) \n",
    " "
   ]
  },
  {
   "cell_type": "markdown",
   "id": "15bc1d6d",
   "metadata": {},
   "source": [
    "Knowing the categories, we first remove the proper nouns, given by the classification NNP (for singular proper nouns) and NNPS (for plural proper nouns)."
   ]
  },
  {
   "cell_type": "code",
   "execution_count": 6,
   "id": "ddabb840",
   "metadata": {},
   "outputs": [
    {
     "name": "stdout",
     "output_type": "stream",
     "text": [
      "['The', 'little', 'man', 'stood', 'glancing', 'from', 'one', 'to', 'the', 'other', 'of', 'us', 'with', 'half-frightened,', 'half-hopeful', 'eyes,', 'as', 'one', 'who', 'is', 'not', 'sure', 'whether', 'he', 'is', 'on', 'the', 'verge', 'of', 'a', 'windfall', 'or', 'of', 'a', 'catastrophe.']\n",
      "['With', 'a', 'gaze', 'that', 'shifted', 'back', 'and', 'forth', 'between', 'us,', 'the', 'dimunitive', 'figure', 'appeared', 'to', 'be', 'a', 'mixture', 'of', 'apprehension', 'and', 'anticipation,', 'uncertain', 'if', 'he', 'was', 'on', 'the', 'cusp', 'of', 'a', 'fortune', 'or', 'a', 'disaster.']\n"
     ]
    }
   ],
   "source": [
    "edited_sentence1 = [word for word,tag in tagged_doc1 if tag not in ['NNP','NNPS']]\n",
    "edited_sentence2 = [word for word,tag in tagged_doc2 if tag not in ['NNP','NNPS']] \n",
    "print(edited_sentence1)\n",
    "print(edited_sentence2) \n",
    " "
   ]
  },
  {
   "cell_type": "markdown",
   "id": "6265df6f",
   "metadata": {
    "scrolled": false
   },
   "source": [
    "Next, we remove all the punctuation marks."
   ]
  },
  {
   "cell_type": "code",
   "execution_count": 7,
   "id": "d5e7611c",
   "metadata": {},
   "outputs": [
    {
     "name": "stdout",
     "output_type": "stream",
     "text": [
      "['The', 'little', 'man', 'stood', 'glancing', 'from', 'one', 'to', 'the', 'other', 'of', 'us', 'with', 'half', 'frightened', 'half', 'hopeful', 'eyes', 'as', 'one', 'who', 'is', 'not', 'sure', 'whether', 'he', 'is', 'on', 'the', 'verge', 'of', 'a', 'windfall', 'or', 'of', 'a', 'catastrophe']\n",
      "['With', 'a', 'gaze', 'that', 'shifted', 'back', 'and', 'forth', 'between', 'us', 'the', 'dimunitive', 'figure', 'appeared', 'to', 'be', 'a', 'mixture', 'of', 'apprehension', 'and', 'anticipation', 'uncertain', 'if', 'he', 'was', 'on', 'the', 'cusp', 'of', 'a', 'fortune', 'or', 'a', 'disaster']\n"
     ]
    }
   ],
   "source": [
    "tokenizer = RegexpTokenizer(r'\\w+') \n",
    "processed_doc1 = tokenizer.tokenize(' '.join(edited_sentence1))\n",
    "processed_doc2 = tokenizer.tokenize(' '.join(edited_sentence2))\n",
    "print(processed_doc1)\n",
    "print(processed_doc2) "
   ]
  },
  {
   "cell_type": "markdown",
   "id": "a39b43c8",
   "metadata": {},
   "source": [
    "We now remove all the stop words."
   ]
  },
  {
   "cell_type": "code",
   "execution_count": 8,
   "id": "d7040484",
   "metadata": {
    "scrolled": false
   },
   "outputs": [
    {
     "name": "stdout",
     "output_type": "stream",
     "text": [
      "['little', 'man', 'stood', 'glancing', 'one', 'us', 'half', 'frightened', 'half', 'hopeful', 'eyes', 'one', 'sure', 'whether', 'verge', 'windfall', 'catastrophe'] \n",
      " ['gaze', 'shifted', 'back', 'forth', 'us', 'dimunitive', 'figure', 'appeared', 'mixture', 'apprehension', 'anticipation', 'uncertain', 'cusp', 'fortune', 'disaster']\n"
     ]
    }
   ],
   "source": [
    "processed_doc1 = [x.lower() for x in processed_doc1]\n",
    "processed_doc2 = [x.lower() for x in processed_doc2]\n",
    "processed_doc1 = [i for i in processed_doc1 if i not in stopwords.words('english')]\n",
    "processed_doc2 = [i for i in processed_doc2 if i not in stopwords.words('english')]\n",
    "\n",
    "print(processed_doc1,'\\n', processed_doc2) "
   ]
  },
  {
   "cell_type": "markdown",
   "id": "ae9b58f6",
   "metadata": {},
   "source": [
    "For a better visualization of the processed documents, let us create word clouds out of them."
   ]
  },
  {
   "cell_type": "code",
   "execution_count": 9,
   "id": "550dc930",
   "metadata": {},
   "outputs": [
    {
     "name": "stdout",
     "output_type": "stream",
     "text": [
      "Document 1:\n"
     ]
    },
    {
     "data": {
      "image/png": "[encoded data removed]",
      "text/plain": [
       "<Figure size 432x288 with 1 Axes>"
      ]
     },
     "metadata": {
      "needs_background": "light"
     },
     "output_type": "display_data"
    },
    {
     "name": "stdout",
     "output_type": "stream",
     "text": [
      "Document 2:\n"
     ]
    },
    {
     "data": {
      "image/png": "[encoded data removed]",
      "text/plain": [
       "<Figure size 432x288 with 1 Axes>"
      ]
     },
     "metadata": {
      "needs_background": "light"
     },
     "output_type": "display_data"
    }
   ],
   "source": [
    "from wordcloud import WordCloud, STOPWORDS, ImageColorGenerator\n",
    "\n",
    "print(\"Document 1:\") \n",
    "wordcloud = WordCloud(max_font_size=50, max_words=100, background_color=\"white\").generate(' '.join(processed_doc1))\n",
    "plt.imshow(wordcloud, interpolation='bilinear')\n",
    "plt.axis(\"off\")\n",
    "plt.show()\n",
    "\n",
    "print(\"Document 2:\")\n",
    "wordcloud = WordCloud(max_font_size=50, max_words=100, background_color=\"white\").generate(' '.join(processed_doc2))\n",
    "plt.imshow(wordcloud, interpolation='bilinear')\n",
    "plt.axis(\"off\")\n",
    "\n",
    "plt.show()"
   ]
  },
  {
   "cell_type": "markdown",
   "id": "c977b8ef",
   "metadata": {},
   "source": [
    "To prepare the documents for the optimization model, let us store the frequency of occurrences of each word."
   ]
  },
  {
   "cell_type": "code",
   "execution_count": 10,
   "id": "f3f9c093",
   "metadata": {
    "scrolled": true
   },
   "outputs": [
    {
     "name": "stdout",
     "output_type": "stream",
     "text": [
      "{'verge', 'glancing', 'whether', 'catastrophe', 'half', 'windfall', 'stood', 'one', 'frightened', 'eyes', 'sure', 'us', 'man', 'hopeful', 'little'} {'cusp', 'anticipation', 'uncertain', 'figure', 'forth', 'disaster', 'fortune', 'mixture', 'back', 'apprehension', 'us', 'dimunitive', 'gaze', 'shifted', 'appeared'}\n"
     ]
    }
   ],
   "source": [
    "freqency_D1 = {i: processed_doc1.count(i)/len(processed_doc1) for i in processed_doc1}\n",
    "freqency_D2 = {i: processed_doc2.count(i)/len(processed_doc2) for i in processed_doc2}\n",
    "\n",
    "D1 = set(processed_doc1)\n",
    "D2 = set(processed_doc2) \n",
    "print(D1,D2)"
   ]
  },
  {
   "cell_type": "markdown",
   "id": "a5cf37a4",
   "metadata": {},
   "source": [
    "We now get the word-to-word distance matrix. Given the vector embeddings of two words $\\overline{x}_1$ and $\\overline{x}_2$, we take the cosine distance between them given by, $\\overline{x}_1 . \\overline{x}_2$/$|\\overline{x}_1||\\overline{x}_2|$. Uncomment the code below to see the sorted distances between all pairs of words in the two documents."
   ]
  },
  {
   "cell_type": "code",
   "execution_count": 11,
   "id": "547ce764",
   "metadata": {
    "scrolled": false
   },
   "outputs": [],
   "source": [
    "import numpy as np\n",
    "distance = {(i,j): spatial.distance.cosine(model[i],model[j]) for i in D1 for j in D2} \n",
    "\n",
    "# dict(sorted(distance.items(), key=lambda item: item[1]))"
   ]
  },
  {
   "cell_type": "markdown",
   "id": "898014e1",
   "metadata": {},
   "source": [
    "## III. Computing text dissimilarity using a linear program\n",
    "\n",
    "Now, we model the Word Mover's Distance (WMD) as an optimization problem.\n",
    "The idea is to send *flow* from the words in document 1 to the words in document 2 in such a way that the product of the distance and flow is minimized.\n",
    "In other words, we send higher flow between words that have a smaller distance, and hence, are semantically closer to each other.\n",
    "\n",
    "In the figure below, we see how the optimal flow corresponds to pairs of words that are semantically the closest.\n",
    "\n",
    "|<img src=\"https://raw.githubusercontent.com/Gurobi/modeling-examples/master/text_dissimilarity/figure_obama2.png\" width=\"500\" align=\"center\">| \n",
    "|:--:|\n",
    "|An illustration of Word Movers' Distance to measure the similarity between two documents. <b>Image Credits: [Towards AI](https://towardsai.net/p/nlp/word-movers-distance-wmd-explained-an-effective-method-of-document-classification-89cb258401f4) </b>| \n",
    "\n",
    "<!-- The score: weighted sum of distances. -->\n",
    "\n",
    "In optimization terminology, this model is famously called the **transportation model**, where the flow corresponds to transporting commodities between locations (such as warehouse and retail locations). \n",
    "\n",
    "\n",
    "Before we build the model, we first define the input parameters.\n",
    "\n",
    "### Input Parameters\n",
    "\n",
    "$D_1, D_2$: two documents each representing a set of words,\n",
    "\n",
    "$p_w$: frequency of word $w$ in $D_1$,\n",
    "\n",
    "$q_{w'}$: frequency of word $w'$ in $D_2$,\n",
    "\n",
    "$d(w,w')$: distance between word embeddings of $w$ and $w'$.\n",
    "\n",
    "To build the model, we initiate the Gurobi model."
   ]
  },
  {
   "cell_type": "code",
   "execution_count": 12,
   "id": "4b72b117",
   "metadata": {},
   "outputs": [
    {
     "name": "stdout",
     "output_type": "stream",
     "text": [
      "Requirement already satisfied: gurobipy in /Users/rahul.swamy/opt/anaconda3/lib/python3.9/site-packages (10.0.0)\n",
      "Note: you may need to restart the kernel to use updated packages.\n"
     ]
    }
   ],
   "source": [
    "%pip install gurobipy\n",
    "import gurobipy as gp\n",
    "from gurobipy import GRB\n",
    "\n",
    "# Initialize Model\n",
    "m = gp.Model(\"Text_similarity\")"
   ]
  },
  {
   "cell_type": "markdown",
   "id": "c9531ec3",
   "metadata": {},
   "source": [
    "### Flow variables\n",
    "\n",
    "The following is the key decision variable in the model.\n",
    "\n",
    "$f_{w,w'}$: Amount of flow from word $w$ in $D_1$ to word $w'$ in $D_2$.\n",
    "\n",
    "\n",
    "\n",
    "We can add the flow variables for all pairs of words using the addVars function. We allow the flow variable to be between $0$ and $1$, and hence set the lower bound (lb) to $0$ and the upper bound (ub) to $1$."
   ]
  },
  {
   "cell_type": "code",
   "execution_count": 13,
   "id": "d0144817",
   "metadata": {},
   "outputs": [],
   "source": [
    "f = m.addVars(D1,D2,name=\"f\",lb=0,ub=1) "
   ]
  },
  {
   "cell_type": "markdown",
   "id": "7b527a3f",
   "metadata": {},
   "source": [
    "### Objective: Minimize the net distance times flow \n",
    "\n",
    "\n",
    "The higher the flow, the more semantically close those words are expected to be. This is achieved by defining the objective function to be the product of the distance and the flow, mathematically expressed as:\n",
    "\n",
    "\\begin{aligned}\n",
    "\\textrm{minimize} \\ \\sum_{w \\in D_1} \\sum_{w' \\in D_2}&  d(w,w') f_{w,w'}\n",
    "\\end{aligned}\n",
    "\n",
    "\n",
    "\n",
    "Minimizing this objective naturally allocates higher flow values to word-pairs that have a smaller distance. We can add this objective to the Gurobi model below."
   ]
  },
  {
   "cell_type": "code",
   "execution_count": 14,
   "id": "7dbcdfeb",
   "metadata": {},
   "outputs": [],
   "source": [
    "m.ModelSense = GRB.MINIMIZE\n",
    "m.setObjective(sum(f[w,w_prime]*distance[w,w_prime] for w in D1 for w_prime in D2))#/sum(cost[w,w_prime] for w in D for w_prime in D_prime))\n",
    "m.update()"
   ]
  },
  {
   "cell_type": "markdown",
   "id": "10d2a9ba",
   "metadata": {},
   "source": [
    "### Constraints\n",
    "\n",
    "\n",
    "Finally, we define constraints to ensure that each word has a representation in the flow proportional to its frequency of occurrence.\n",
    "We do this by ensuring: the net flow exiting from each word $w$ in document $D_1$ is equal to its frequency of occurrence in $D_1$.\n",
    "Similarly, the net flow entering each word $w'$ in document $D_2$ is equal to its frequency of occurrence in $D_2$.\n",
    "These two constraints can be expressed by the following two equations.\n",
    "\n",
    "\\begin{aligned}\n",
    " \\sum_{w' \\in D_2} f_{w,w'} &= p_w \\quad  \\forall \\ w \\in D_1, \\\\\n",
    "\\ \\sum_{w \\in D_1} f_{w,w'} &= q_{w'} \\quad  \\forall  \\ w' \\in D_2\n",
    "\\end{aligned}\n",
    "\n",
    "We add these constraints to the Gurobi model below using the addConstrs function."
   ]
  },
  {
   "cell_type": "code",
   "execution_count": 15,
   "id": "24ba210f",
   "metadata": {},
   "outputs": [
    {
     "data": {
      "text/plain": [
       "{'cusp': <gurobi.Constr *Awaiting Model Update*>,\n",
       " 'anticipation': <gurobi.Constr *Awaiting Model Update*>,\n",
       " 'uncertain': <gurobi.Constr *Awaiting Model Update*>,\n",
       " 'figure': <gurobi.Constr *Awaiting Model Update*>,\n",
       " 'forth': <gurobi.Constr *Awaiting Model Update*>,\n",
       " 'disaster': <gurobi.Constr *Awaiting Model Update*>,\n",
       " 'fortune': <gurobi.Constr *Awaiting Model Update*>,\n",
       " 'mixture': <gurobi.Constr *Awaiting Model Update*>,\n",
       " 'back': <gurobi.Constr *Awaiting Model Update*>,\n",
       " 'apprehension': <gurobi.Constr *Awaiting Model Update*>,\n",
       " 'us': <gurobi.Constr *Awaiting Model Update*>,\n",
       " 'dimunitive': <gurobi.Constr *Awaiting Model Update*>,\n",
       " 'gaze': <gurobi.Constr *Awaiting Model Update*>,\n",
       " 'shifted': <gurobi.Constr *Awaiting Model Update*>,\n",
       " 'appeared': <gurobi.Constr *Awaiting Model Update*>}"
      ]
     },
     "execution_count": 15,
     "metadata": {},
     "output_type": "execute_result"
    }
   ],
   "source": [
    "m.addConstrs(f.sum(w, '*') == freqency_D1[w] for w in D1)\n",
    "m.addConstrs(f.sum('*', w_prime) == freqency_D2[w_prime] for w_prime in D2)\n",
    " "
   ]
  },
  {
   "cell_type": "markdown",
   "id": "29514d5c",
   "metadata": {},
   "source": [
    "### Solve the model"
   ]
  },
  {
   "cell_type": "markdown",
   "id": "714ad9c8",
   "metadata": {},
   "source": [
    "We have added all the decision variables, objective, and constraints, and we are ready to solve the model!"
   ]
  },
  {
   "cell_type": "code",
   "execution_count": 16,
   "id": "f35da347",
   "metadata": {
    "scrolled": true
   },
   "outputs": [
    {
     "name": "stdout",
     "output_type": "stream",
     "text": [
      "Gurobi Optimizer version 9.5.1 build v9.5.1rc2 (mac64[rosetta2])\n",
      "Thread count: 8 physical cores, 8 logical processors, using up to 8 threads\n",
      "Optimize a model with 30 rows, 225 columns and 450 nonzeros\n",
      "Model fingerprint: 0x20379dc0\n",
      "Coefficient statistics:\n",
      "  Matrix range     [1e+00, 1e+00]\n",
      "  Objective range  [2e-01, 1e+00]\n",
      "  Bounds range     [1e+00, 1e+00]\n",
      "  RHS range        [6e-02, 1e-01]\n",
      "Presolve time: 0.00s\n",
      "Presolved: 30 rows, 225 columns, 450 nonzeros\n",
      "\n",
      "Iteration    Objective       Primal Inf.    Dual Inf.      Time\n",
      "       0    5.7088890e-01   7.607843e-01   0.000000e+00      0s\n",
      "      22    6.2664077e-01   0.000000e+00   0.000000e+00      0s\n",
      "\n",
      "Solved in 22 iterations and 0.01 seconds (0.00 work units)\n",
      "Optimal objective  6.266407741e-01\n"
     ]
    }
   ],
   "source": [
    "m.optimize()  "
   ]
  },
  {
   "cell_type": "markdown",
   "id": "237b9dc0",
   "metadata": {},
   "source": [
    "The model is solved, and the flow solution is stored in a Pandas dataframe for easy visualization."
   ]
  },
  {
   "cell_type": "markdown",
   "id": "5deb8620",
   "metadata": {},
   "source": [
    "How can we interpret the result? How much dissimilarity is good enough to detect plagiarism?"
   ]
  },
  {
   "cell_type": "code",
   "execution_count": 17,
   "id": "9e880771",
   "metadata": {
    "scrolled": false
   },
   "outputs": [
    {
     "name": "stdout",
     "output_type": "stream",
     "text": [
      "Dissimilarity score: 0.63 \n",
      "\n"
     ]
    },
    {
     "data": {
      "text/html": [
       "<div>\n",
       "<style scoped>\n",
       "    .dataframe tbody tr th:only-of-type {\n",
       "        vertical-align: middle;\n",
       "    }\n",
       "\n",
       "    .dataframe tbody tr th {\n",
       "        vertical-align: top;\n",
       "    }\n",
       "\n",
       "    .dataframe thead th {\n",
       "        text-align: right;\n",
       "    }\n",
       "</style>\n",
       "<table border=\"1\" class=\"dataframe\">\n",
       "  <thead>\n",
       "    <tr style=\"text-align: right;\">\n",
       "      <th></th>\n",
       "      <th>word 1</th>\n",
       "      <th>word 2</th>\n",
       "      <th>flow</th>\n",
       "      <th>distance</th>\n",
       "    </tr>\n",
       "  </thead>\n",
       "  <tbody>\n",
       "    <tr>\n",
       "      <th>0</th>\n",
       "      <td>us</td>\n",
       "      <td>us</td>\n",
       "      <td>0.058824</td>\n",
       "      <td>0.000000</td>\n",
       "    </tr>\n",
       "    <tr>\n",
       "      <th>1</th>\n",
       "      <td>verge</td>\n",
       "      <td>cusp</td>\n",
       "      <td>0.058824</td>\n",
       "      <td>0.202558</td>\n",
       "    </tr>\n",
       "    <tr>\n",
       "      <th>2</th>\n",
       "      <td>catastrophe</td>\n",
       "      <td>disaster</td>\n",
       "      <td>0.058824</td>\n",
       "      <td>0.268376</td>\n",
       "    </tr>\n",
       "    <tr>\n",
       "      <th>3</th>\n",
       "      <td>eyes</td>\n",
       "      <td>gaze</td>\n",
       "      <td>0.058824</td>\n",
       "      <td>0.408681</td>\n",
       "    </tr>\n",
       "    <tr>\n",
       "      <th>4</th>\n",
       "      <td>glancing</td>\n",
       "      <td>gaze</td>\n",
       "      <td>0.007843</td>\n",
       "      <td>0.470946</td>\n",
       "    </tr>\n",
       "    <tr>\n",
       "      <th>5</th>\n",
       "      <td>windfall</td>\n",
       "      <td>fortune</td>\n",
       "      <td>0.058824</td>\n",
       "      <td>0.508320</td>\n",
       "    </tr>\n",
       "    <tr>\n",
       "      <th>6</th>\n",
       "      <td>hopeful</td>\n",
       "      <td>uncertain</td>\n",
       "      <td>0.050980</td>\n",
       "      <td>0.585380</td>\n",
       "    </tr>\n",
       "    <tr>\n",
       "      <th>7</th>\n",
       "      <td>stood</td>\n",
       "      <td>appeared</td>\n",
       "      <td>0.015686</td>\n",
       "      <td>0.690484</td>\n",
       "    </tr>\n",
       "    <tr>\n",
       "      <th>8</th>\n",
       "      <td>whether</td>\n",
       "      <td>uncertain</td>\n",
       "      <td>0.015686</td>\n",
       "      <td>0.690748</td>\n",
       "    </tr>\n",
       "    <tr>\n",
       "      <th>9</th>\n",
       "      <td>one</td>\n",
       "      <td>us</td>\n",
       "      <td>0.007843</td>\n",
       "      <td>0.706085</td>\n",
       "    </tr>\n",
       "    <tr>\n",
       "      <th>10</th>\n",
       "      <td>hopeful</td>\n",
       "      <td>cusp</td>\n",
       "      <td>0.007843</td>\n",
       "      <td>0.711140</td>\n",
       "    </tr>\n",
       "    <tr>\n",
       "      <th>11</th>\n",
       "      <td>glancing</td>\n",
       "      <td>appeared</td>\n",
       "      <td>0.050980</td>\n",
       "      <td>0.712400</td>\n",
       "    </tr>\n",
       "    <tr>\n",
       "      <th>12</th>\n",
       "      <td>sure</td>\n",
       "      <td>back</td>\n",
       "      <td>0.050980</td>\n",
       "      <td>0.725247</td>\n",
       "    </tr>\n",
       "    <tr>\n",
       "      <th>13</th>\n",
       "      <td>frightened</td>\n",
       "      <td>apprehension</td>\n",
       "      <td>0.058824</td>\n",
       "      <td>0.730680</td>\n",
       "    </tr>\n",
       "    <tr>\n",
       "      <th>14</th>\n",
       "      <td>little</td>\n",
       "      <td>mixture</td>\n",
       "      <td>0.058824</td>\n",
       "      <td>0.744625</td>\n",
       "    </tr>\n",
       "    <tr>\n",
       "      <th>15</th>\n",
       "      <td>half</td>\n",
       "      <td>back</td>\n",
       "      <td>0.015686</td>\n",
       "      <td>0.759749</td>\n",
       "    </tr>\n",
       "    <tr>\n",
       "      <th>16</th>\n",
       "      <td>one</td>\n",
       "      <td>figure</td>\n",
       "      <td>0.066667</td>\n",
       "      <td>0.774103</td>\n",
       "    </tr>\n",
       "    <tr>\n",
       "      <th>17</th>\n",
       "      <td>stood</td>\n",
       "      <td>shifted</td>\n",
       "      <td>0.043137</td>\n",
       "      <td>0.787247</td>\n",
       "    </tr>\n",
       "    <tr>\n",
       "      <th>18</th>\n",
       "      <td>man</td>\n",
       "      <td>dimunitive</td>\n",
       "      <td>0.058824</td>\n",
       "      <td>0.795858</td>\n",
       "    </tr>\n",
       "    <tr>\n",
       "      <th>19</th>\n",
       "      <td>sure</td>\n",
       "      <td>disaster</td>\n",
       "      <td>0.007843</td>\n",
       "      <td>0.852819</td>\n",
       "    </tr>\n",
       "    <tr>\n",
       "      <th>20</th>\n",
       "      <td>half</td>\n",
       "      <td>fortune</td>\n",
       "      <td>0.007843</td>\n",
       "      <td>0.853289</td>\n",
       "    </tr>\n",
       "    <tr>\n",
       "      <th>21</th>\n",
       "      <td>half</td>\n",
       "      <td>mixture</td>\n",
       "      <td>0.007843</td>\n",
       "      <td>0.861243</td>\n",
       "    </tr>\n",
       "    <tr>\n",
       "      <th>22</th>\n",
       "      <td>half</td>\n",
       "      <td>anticipation</td>\n",
       "      <td>0.031373</td>\n",
       "      <td>0.878766</td>\n",
       "    </tr>\n",
       "    <tr>\n",
       "      <th>23</th>\n",
       "      <td>one</td>\n",
       "      <td>dimunitive</td>\n",
       "      <td>0.007843</td>\n",
       "      <td>0.880989</td>\n",
       "    </tr>\n",
       "    <tr>\n",
       "      <th>24</th>\n",
       "      <td>one</td>\n",
       "      <td>forth</td>\n",
       "      <td>0.035294</td>\n",
       "      <td>0.885124</td>\n",
       "    </tr>\n",
       "    <tr>\n",
       "      <th>25</th>\n",
       "      <td>whether</td>\n",
       "      <td>apprehension</td>\n",
       "      <td>0.007843</td>\n",
       "      <td>0.889341</td>\n",
       "    </tr>\n",
       "    <tr>\n",
       "      <th>26</th>\n",
       "      <td>half</td>\n",
       "      <td>forth</td>\n",
       "      <td>0.031373</td>\n",
       "      <td>0.893175</td>\n",
       "    </tr>\n",
       "    <tr>\n",
       "      <th>27</th>\n",
       "      <td>whether</td>\n",
       "      <td>anticipation</td>\n",
       "      <td>0.035294</td>\n",
       "      <td>0.904097</td>\n",
       "    </tr>\n",
       "    <tr>\n",
       "      <th>28</th>\n",
       "      <td>half</td>\n",
       "      <td>shifted</td>\n",
       "      <td>0.023529</td>\n",
       "      <td>0.915657</td>\n",
       "    </tr>\n",
       "  </tbody>\n",
       "</table>\n",
       "</div>"
      ],
      "text/plain": [
       "         word 1        word 2      flow  distance\n",
       "0            us            us  0.058824  0.000000\n",
       "1         verge          cusp  0.058824  0.202558\n",
       "2   catastrophe      disaster  0.058824  0.268376\n",
       "3          eyes          gaze  0.058824  0.408681\n",
       "4      glancing          gaze  0.007843  0.470946\n",
       "5      windfall       fortune  0.058824  0.508320\n",
       "6       hopeful     uncertain  0.050980  0.585380\n",
       "7         stood      appeared  0.015686  0.690484\n",
       "8       whether     uncertain  0.015686  0.690748\n",
       "9           one            us  0.007843  0.706085\n",
       "10      hopeful          cusp  0.007843  0.711140\n",
       "11     glancing      appeared  0.050980  0.712400\n",
       "12         sure          back  0.050980  0.725247\n",
       "13   frightened  apprehension  0.058824  0.730680\n",
       "14       little       mixture  0.058824  0.744625\n",
       "15         half          back  0.015686  0.759749\n",
       "16          one        figure  0.066667  0.774103\n",
       "17        stood       shifted  0.043137  0.787247\n",
       "18          man    dimunitive  0.058824  0.795858\n",
       "19         sure      disaster  0.007843  0.852819\n",
       "20         half       fortune  0.007843  0.853289\n",
       "21         half       mixture  0.007843  0.861243\n",
       "22         half  anticipation  0.031373  0.878766\n",
       "23          one    dimunitive  0.007843  0.880989\n",
       "24          one         forth  0.035294  0.885124\n",
       "25      whether  apprehension  0.007843  0.889341\n",
       "26         half         forth  0.031373  0.893175\n",
       "27      whether  anticipation  0.035294  0.904097\n",
       "28         half       shifted  0.023529  0.915657"
      ]
     },
     "execution_count": 17,
     "metadata": {},
     "output_type": "execute_result"
    }
   ],
   "source": [
    "print(\"Dissimilarity score:\",round((m.ObjVal),2),\"\\n\")\n",
    "\n",
    "solution = pd.DataFrame()\n",
    "flow = {(i,j): f[i,j].X for i in D1 for j in D2 if f[i,j].X > 0} \n",
    "# flow = sorted(flow.items(), key=lambda item: item[1],reverse=True)\n",
    "solution['word 1'] = [i for (i,j) in flow]\n",
    "solution['word 2'] = [j for (i,j) in flow]\n",
    "solution['flow'] = [flow[i,j] for (i,j) in flow]\n",
    "solution['distance'] = [distance[i,j] for (i,j) in flow] \n",
    "# solution.sort_values(by='flow',ascending=False).reset_index(drop=True)\n",
    "solution.sort_values(by='distance',ascending=True).reset_index(drop=True)"
   ]
  },
  {
   "cell_type": "markdown",
   "id": "3b95aebd",
   "metadata": {},
   "source": [
    "## IV. Detect plagiarism"
   ]
  },
  {
   "cell_type": "markdown",
   "id": "97d52912",
   "metadata": {},
   "source": [
    "In this part of the notebook, we check if a given text has been re-written (or plagiarized) from a book. To do this, we compare the given text with every sentence in the book, and output the sentence with the smallest dissimilarity. After that, a human can make the final evaluation of whether this is indeed a case of plagiarism."
   ]
  },
  {
   "cell_type": "markdown",
   "id": "5d72ffb9",
   "metadata": {},
   "source": [
    "First, read the book (The Adventures of Sherlock Holmes) as a text file. We downloaded the file from [Project Gutenberg](https://www.gutenberg.org/cache/epub/1661/pg1661.txt)."
   ]
  },
  {
   "cell_type": "code",
   "execution_count": 18,
   "id": "7a57b0ca",
   "metadata": {},
   "outputs": [],
   "source": [
    "import base64\n",
    "import requests\n",
    "\n",
    "master = \"https://raw.githubusercontent.com/Gurobi/modeling-examples/master/text_dissimilarity/PG1661_raw.txt\"\n",
    "content = requests.get(master)\n",
    "content = content.text\n",
    "content = content.replace('\\n',' ')\n",
    "content = content.replace('_',' ')\n",
    "content = content.replace('\\r','') \n",
    "sentences = list(map(str.strip, content.split(\".\")))[19:]"
   ]
  },
  {
   "cell_type": "markdown",
   "id": "8f66b4bc",
   "metadata": {},
   "source": [
    "Pre-process all the sentences in the book."
   ]
  },
  {
   "cell_type": "code",
   "execution_count": 19,
   "id": "c2f050e0",
   "metadata": {},
   "outputs": [],
   "source": [
    "def pre_processing(document):\n",
    "    # Remove proper nouns\n",
    "    tagged_doc = nltk.tag.pos_tag(document.split())\n",
    "    edited_sentence = [word for word,tag in tagged_doc]  \n",
    "    edited_sentence = [word for word,tag in tagged_doc if tag not in ['NNP','NNPS']]  \n",
    "\n",
    "    # Remove punctuation \n",
    "    tokenizer = RegexpTokenizer(r'\\w+') \n",
    "    processed_doc = tokenizer.tokenize(' '.join(edited_sentence)) \n",
    "\n",
    "    # Remove stop words \n",
    "    processed_doc = [i for i in processed_doc if i not in stopwords.words('english')]  \n",
    "    \n",
    "    return processed_doc\n",
    "\n",
    "processed_sentences = [] # list of all sentences\n",
    "for s in sentences: \n",
    "    processed_sentences.append(pre_processing(s))\n"
   ]
  },
  {
   "cell_type": "markdown",
   "id": "8694e3c5",
   "metadata": {},
   "source": [
    "We can write the WMD optimization model within a function that inputs two documents, and outputs their dissimilairty score."
   ]
  },
  {
   "cell_type": "code",
   "execution_count": 20,
   "id": "3c15a1e1",
   "metadata": {},
   "outputs": [],
   "source": [
    "def score_dissimilarity(D1, D2):\n",
    "\n",
    "    D1 = set(D1)\n",
    "    D2 = set(D2) \n",
    "    D2 = D2 - set([i for i in D2 if i not in model]) # in case some of the words from the book are not in the word2vec data\n",
    "    D1 = D1 - set([i for i in D1 if i not in model])\n",
    "            \n",
    "    freqency_D1 = {i: list(D1).count(i)/len(D1) for i in D1}\n",
    "    freqency_D2 = {i: list(D2).count(i)/len(D2) for i in D2}\n",
    "    \n",
    "    if len(D2) < 5: # if the sentence is too small, we set a high dissimilarity, effectively ignoring it\n",
    "        return 1\n",
    "        \n",
    "    m = gp.Model(\"Text_similarity\")\n",
    "    distance = {(i,j): spatial.distance.cosine(model[i],model[j]) for i in D1 for j in D2} \n",
    "\n",
    "    # Variables. Adjust the bounds here \n",
    "    f = m.addVars(D1,D2,name=\"f\",lb=0,ub=1) \n",
    "\n",
    "    # Minimize\n",
    "    m.ModelSense = GRB.MINIMIZE\n",
    "    m.setObjective(sum(f[w,w_prime]*distance[w,w_prime] for w in D1 for w_prime in D2))\n",
    "\n",
    "    # Add the constraints   \n",
    "    m.addConstrs(f.sum(w, '*') ==  freqency_D1[w] for w in D1)\n",
    "    m.addConstrs(f.sum('*', w_prime) == freqency_D2[w_prime] for w_prime in D2) \n",
    "    \n",
    "    m.setParam('OutputFlag', 0)\n",
    "    m.optimize()  \n",
    "    \n",
    "    return m.ObjVal"
   ]
  },
  {
   "cell_type": "markdown",
   "id": "64ebfb64",
   "metadata": {},
   "source": [
    "Now, we select a passage that is re-written from the book. The following code has some examples, but feel free to pick any sentence from [the book](https://www.gutenberg.org/cache/epub/1661/pg1661.txt) and create your own plagiarized version."
   ]
  },
  {
   "cell_type": "code",
   "execution_count": 21,
   "id": "7a4de501",
   "metadata": {
    "scrolled": true
   },
   "outputs": [
    {
     "name": "stdout",
     "output_type": "stream",
     "text": [
      "With a gaze that shifted back and forth between us, the dimunitive figure appeared to be a mixture of apprehension and anticipation, uncertain if he was on the cusp of a fortune or a disaster.\n"
     ]
    }
   ],
   "source": [
    "sample_sentence = 'With a gaze that shifted back and forth between us, the dimunitive figure appeared to be a mixture of apprehension and anticipation, uncertain if he was on the cusp of a fortune or a disaster.'\n",
    "# sample_sentence = 'Without much conversation, yet with a friendly gesture, he gestured towards an armchair for me to sit in, offered me a box of cigars, and pointed to a liquor cabinet and a carbonated water dispenser in the corner.' \n",
    "\n",
    "print(sample_sentence)"
   ]
  },
  {
   "cell_type": "markdown",
   "id": "4f010759",
   "metadata": {},
   "source": [
    "Finally, we iterate over all the sentences in the book, and find the dissimilairty score. The following code only prints the output whenever the dissimilarity goes down in value. The result is a sentence with the smallest dissimilarity."
   ]
  },
  {
   "cell_type": "code",
   "execution_count": 22,
   "id": "24114694",
   "metadata": {
    "scrolled": false
   },
   "outputs": [
    {
     "name": "stdout",
     "output_type": "stream",
     "text": [
      "#\t Dissimilarity\t Sentence\n",
      "1 \t 0.84 \t I have seldom heard him mention her under any other name\n",
      "2 \t 0.79 \t In his eyes she eclipses and predominates the whole of her sex\n",
      "3 \t 0.79 \t It was not that he felt any emotion akin to love for Irene Adler\n",
      "8 \t 0.77 \t But for the trained reasoner to admit such intrusions into his own delicate and finely adjusted temperament was to introduce a distracting factor which might throw a doubt upon all his mental results\n",
      "12 \t 0.75 \t My marriage had drifted us away from each other\n",
      "15 \t 0.75 \t From time to time I heard some vague account of his doings: of his summons to Odessa in the case of the Trepoff murder, of his clearing up of the singular tragedy of the Atkinson brothers at Trincomalee, and finally of the mission which he had accomplished so delicately and successfully for the reigning family of Holland\n",
      "19 \t 0.72 \t His rooms were brilliantly lit, and, even as I looked up, I saw his tall, spare figure pass twice in a dark silhouette against the blind\n",
      "131 \t 0.71 \t ” He looked from one to the other of us, as if uncertain which to address\n",
      "422 \t 0.68 \t Irene Adler, as I will still call her, had hurried up the steps; but she stood at the top with her superb figure outlined against the lights of the hall, looking back into the street\n",
      "1477 \t 0.67 \t Holmes stuck his feet up on the corner of the mantelpiece and, leaning back with his hands in his pockets, began talking, rather to himself, as it seemed, than to us\n",
      "2617 \t 0.67 \t For two streets he shuffled along with a bent back and an uncertain foot\n",
      "3429 \t 0.61 \t ”  The little man stood glancing from one to the other of us with half-frightened, half-hopeful eyes, as one who is not sure whether he is on the verge of a windfall or of a catastrophe\n",
      "\n",
      "The closest sentence with a 0.605834 dissimilarity is:\n",
      "\n",
      " ”  The little man stood glancing from one to the other of us with half-frightened, half-hopeful eyes, as one who is not sure whether he is on the verge of a windfall or of a catastrophe\n"
     ]
    }
   ],
   "source": [
    "obj_best = 1\n",
    "print(\"#\\t Dissimilarity\\t Sentence\")\n",
    "for i in range(len(processed_sentences)):  \n",
    "    obj = score_dissimilarity(pre_processing(sample_sentence),processed_sentences[i])  \n",
    "    if obj < obj_best: \n",
    "        print(i,\"\\t\",round((obj),2),\"\\t\",sentences[i])\n",
    "        obj_best, sentence_best = obj, sentences[i]\n",
    "\n",
    "print(\"\\nThe closest sentence with a %f dissimilarity is:\\n\\n\"%obj_best,sentence_best) "
   ]
  },
  {
   "cell_type": "markdown",
   "id": "7f8deb0c",
   "metadata": {},
   "source": [
    "Voila! Did the program correctly identify the passage? Try out other passages and their re-writings!"
   ]
  },
  {
   "cell_type": "markdown",
   "id": "78b9df93",
   "metadata": {},
   "source": [
    "Copyright © 2023 Gurobi Optimization, LLC"
   ]
  },
  {
   "cell_type": "code",
   "execution_count": null,
   "id": "d8632262",
   "metadata": {},
   "outputs": [],
   "source": []
  }
 ],
 "metadata": {
  "kernelspec": {
   "display_name": "Python 3 (ipykernel)",
   "language": "python",
   "name": "python3"
  },
  "language_info": {
   "codemirror_mode": {
    "name": "ipython",
    "version": 3
   },
   "file_extension": ".py",
   "mimetype": "text/x-python",
   "name": "python",
   "nbconvert_exporter": "python",
   "pygments_lexer": "ipython3",
   "version": "3.9.13"
  }
 },
 "nbformat": 4,
 "nbformat_minor": 5
}
